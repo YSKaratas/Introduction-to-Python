{
 "cells": [
  {
   "cell_type": "code",
   "execution_count": 1,
   "id": "8d2388e4-f442-4227-82b9-5facbc5451ec",
   "metadata": {},
   "outputs": [
    {
     "name": "stdout",
     "output_type": "stream",
     "text": [
      "Yusuf Sait\n"
     ]
    }
   ],
   "source": [
    "print(\"Yusuf Sait\")"
   ]
  },
  {
   "cell_type": "code",
   "execution_count": 7,
   "id": "8c4703de-e8a3-4dc2-a15d-76f9424eed62",
   "metadata": {},
   "outputs": [
    {
     "name": "stdout",
     "output_type": "stream",
     "text": [
      "<class 'str'> <class 'int'>\n"
     ]
    }
   ],
   "source": [
    "a=\"ali\"\n",
    "b=5\n",
    "type(a)\n",
    "type(b)\n",
    "print(type(a), type(b))"
   ]
  },
  {
   "cell_type": "code",
   "execution_count": 15,
   "id": "adfea2ce-406f-4b00-85eb-a1f7e7ad3dc1",
   "metadata": {},
   "outputs": [
    {
     "data": {
      "text/plain": [
       "str"
      ]
     },
     "execution_count": 15,
     "metadata": {},
     "output_type": "execute_result"
    }
   ],
   "source": [
    "x=\"yusuf\"\n",
    "x.capitalize()\n",
    "type(x)"
   ]
  },
  {
   "cell_type": "code",
   "execution_count": 83,
   "id": "c04ed232-ca13-4792-be86-9ff1a8a1b647",
   "metadata": {},
   "outputs": [
    {
     "name": "stdout",
     "output_type": "stream",
     "text": [
      "8\n"
     ]
    }
   ],
   "source": [
    "def topla(a, b):\n",
    "    c= a+b\n",
    "    return c\n",
    "\n",
    "print(topla(3, 5))\n",
    "\n",
    "\n",
    "    "
   ]
  },
  {
   "cell_type": "code",
   "execution_count": 85,
   "id": "42856ac3-4159-4d69-ab56-b37ec9fc816a",
   "metadata": {},
   "outputs": [
    {
     "name": "stdout",
     "output_type": "stream",
     "text": [
      "25\n"
     ]
    }
   ],
   "source": [
    "def kareal(a):\n",
    "    return a*a\n",
    "\n",
    "print(kareal(5))"
   ]
  },
  {
   "cell_type": "code",
   "execution_count": 89,
   "id": "54a1654f-7ffe-42db-8272-259580ddd781",
   "metadata": {},
   "outputs": [
    {
     "name": "stdin",
     "output_type": "stream",
     "text": [
      "1. sayıyı giriniz:  1\n",
      "2. sayıyı giriniz:  2\n"
     ]
    },
    {
     "name": "stdout",
     "output_type": "stream",
     "text": [
      "sonuc : -1\n",
      "sonuc : -1\n"
     ]
    },
    {
     "data": {
      "text/plain": [
       "-1"
      ]
     },
     "execution_count": 89,
     "metadata": {},
     "output_type": "execute_result"
    }
   ],
   "source": [
    "a= int(input(\"1. sayıyı giriniz: \"))\n",
    "b= int(input(\"2. sayıyı giriniz: \"))\n",
    "def cikar(x,y):\n",
    "    print(\"sonuc :\",a-b)\n",
    "    return a-b\n",
    "def kareal(x):\n",
    "    #print(\"a nın karesi:\",a*a)\n",
    "    return a*a\n",
    "sonuc=cikar(a,b)\n",
    "kareal(a)\n",
    "cikar(5,5)"
   ]
  },
  {
   "cell_type": "code",
   "execution_count": 99,
   "id": "eab77666-5170-41dc-a922-9a88c982b984",
   "metadata": {},
   "outputs": [
    {
     "name": "stdout",
     "output_type": "stream",
     "text": [
      "2.0 27\n"
     ]
    }
   ],
   "source": [
    "def ceyrek(x):\n",
    "    return x/4\n",
    "def küpal(x):\n",
    "    return x*x*x\n",
    "\n",
    "print(ceyrek(8), küpal(3))"
   ]
  },
  {
   "cell_type": "code",
   "execution_count": 105,
   "id": "9af667fe-ab86-4d26-ac8e-369a56c6c2bb",
   "metadata": {},
   "outputs": [
    {
     "name": "stdin",
     "output_type": "stream",
     "text": [
      "Tahmin gir (1-100 arası):  51\n"
     ]
    },
    {
     "name": "stdout",
     "output_type": "stream",
     "text": [
      "Kontrol ediliyor...\n",
      "Daha büyük bir sayı girin.\n",
      "Kalan hak: 4\n"
     ]
    },
    {
     "name": "stdin",
     "output_type": "stream",
     "text": [
      "Tahmin gir (1-100 arası):  75\n"
     ]
    },
    {
     "name": "stdout",
     "output_type": "stream",
     "text": [
      "Kontrol ediliyor...\n",
      "Tebrikler, doğru bildiniz!\n",
      "Girilen sayı: 75\n"
     ]
    }
   ],
   "source": [
    "import random\n",
    "import time\n",
    "\n",
    "rastgele = random.randint(1, 100)  # 1-100 arasında rastgele sayı\n",
    "hak = 5  # deneme hakkı\n",
    "\n",
    "while hak > 0:\n",
    "    tahmin = int(input(\"Tahmin gir (1-100 arası): \"))\n",
    "    print(\"Kontrol ediliyor...\")\n",
    "    time.sleep(1)\n",
    "\n",
    "    if tahmin == rastgele:\n",
    "        print(\"Tebrikler, doğru bildiniz!\")\n",
    "        print(\"Girilen sayı:\", tahmin)\n",
    "        break\n",
    "    elif tahmin < rastgele:\n",
    "        print(\"Daha büyük bir sayı girin.\")\n",
    "    elif tahmin > rastgele:\n",
    "        print(\"Daha küçük bir sayı girin.\")\n",
    "    else:\n",
    "        print(\"Lütfen 1-100 arasında bir sayı girin.\")\n",
    "\n",
    "    hak -= 1  # yanlış tahminde hak azalır\n",
    "    print(\"Kalan hak:\", hak)\n",
    "\n",
    "    if hak == 0:\n",
    "        print(\"Hak bitti. Doğru sayı:\", rastgele)\n"
   ]
  },
  {
   "cell_type": "code",
   "execution_count": 107,
   "id": "6025dfe3-8e0f-4ebc-b398-84d219357012",
   "metadata": {},
   "outputs": [
    {
     "name": "stdin",
     "output_type": "stream",
     "text": [
      "Tahmin gir (1-100 arası):  28\n"
     ]
    },
    {
     "name": "stdout",
     "output_type": "stream",
     "text": [
      "Kontrol ediliyor...\n",
      "Daha büyük bir sayı girin.\n",
      "Kalan hak: 4\n"
     ]
    },
    {
     "name": "stdin",
     "output_type": "stream",
     "text": [
      "Tahmin gir (1-100 arası):  75\n"
     ]
    },
    {
     "name": "stdout",
     "output_type": "stream",
     "text": [
      "Kontrol ediliyor...\n",
      "Daha büyük bir sayı girin.\n",
      "Kalan hak: 3\n"
     ]
    },
    {
     "name": "stdin",
     "output_type": "stream",
     "text": [
      "Tahmin gir (1-100 arası):  90\n"
     ]
    },
    {
     "name": "stdout",
     "output_type": "stream",
     "text": [
      "Kontrol ediliyor...\n",
      "Daha küçük bir sayı girin.\n",
      "Kalan hak: 2\n"
     ]
    },
    {
     "name": "stdin",
     "output_type": "stream",
     "text": [
      "Tahmin gir (1-100 arası):  80\n"
     ]
    },
    {
     "name": "stdout",
     "output_type": "stream",
     "text": [
      "Kontrol ediliyor...\n",
      "Tebrikler, doğru bildiniz!\n",
      "Girilen sayı: 80\n"
     ]
    }
   ],
   "source": [
    "import random\n",
    "import time\n",
    "\n",
    "rastgele = random.randint(1, 100)  # 1-100 arasında rastgele sayı\n",
    "hak = 5  # deneme hakkı\n",
    "\n",
    "while hak > 0:\n",
    "    tahmin = int(input(\"Tahmin gir (1-100 arası): \"))\n",
    "    print(\"Kontrol ediliyor...\")\n",
    "    time.sleep(1)\n",
    "\n",
    "    if tahmin == rastgele:\n",
    "        print(\"Tebrikler, doğru bildiniz!\")\n",
    "        print(\"Girilen sayı:\", tahmin)\n",
    "        break\n",
    "    elif tahmin < rastgele:\n",
    "        print(\"Daha büyük bir sayı girin.\")\n",
    "    elif tahmin > rastgele:\n",
    "        print(\"Daha küçük bir sayı girin.\")\n",
    "    else:\n",
    "        print(\"Lütfen 1-100 arasında bir sayı girin.\")\n",
    "\n",
    "    hak -= 1  # yanlış tahminde hak azalır\n",
    "    print(\"Kalan hak:\", hak)\n",
    "\n",
    "    if hak == 0:\n",
    "        print(\"Hak bitti. Doğru sayı:\", rastgele)\n",
    "\n"
   ]
  },
  {
   "cell_type": "code",
   "execution_count": 109,
   "id": "f3668417-da35-47bd-ad53-8cfe4ebd4e25",
   "metadata": {},
   "outputs": [
    {
     "name": "stdout",
     "output_type": "stream",
     "text": [
      "<__main__.Arac object at 0x0000029F0911EED0>\n",
      "kia\n",
      "jeep\n",
      "sarı\n",
      "BMW\n",
      "<__main__.Kare object at 0x0000029F098FB4D0>\n",
      "10\n",
      "100\n",
      "5\n",
      "25\n"
     ]
    }
   ],
   "source": [
    "# %% Öznitelikler (attributes / properties)\n",
    "class Arac:\n",
    "    renk = \"sarı\"\n",
    "    model = \"jeep\"\n",
    "    marka = \"kia\"\n",
    "\n",
    "a1 = Arac()\n",
    "\n",
    "print(a1)             # obje bilgisi\n",
    "print(a1.marka)       # kia\n",
    "print(a1.model)       # jeep\n",
    "print(a1.renk)        # sarı\n",
    "\n",
    "a1.marka = \"BMW\"\n",
    "print(a1.marka)       # BMW\n",
    "\n",
    "\n",
    "# %% Metotlar\n",
    "class Kare:\n",
    "    def __init__(self, kenar=10):  # yapıcı metot, kenar varsayılan 10\n",
    "        self.kenar = kenar\n",
    "\n",
    "    def alan(self):\n",
    "        return self.kenar * self.kenar  # değer döndür\n",
    "\n",
    "k1 = Kare()          # varsayılan 10\n",
    "print(k1)            # obje bilgisi\n",
    "print(k1.kenar)      # 10\n",
    "print(k1.alan())     # 100\n",
    "\n",
    "k2 = Kare(5)         # 5 kenarlı kare\n",
    "print(k2.kenar)      # 5\n",
    "print(k2.alan())     # 25\n"
   ]
  }
 ],
 "metadata": {
  "kernelspec": {
   "display_name": "Python [conda env:base] *",
   "language": "python",
   "name": "conda-base-py"
  },
  "language_info": {
   "codemirror_mode": {
    "name": "ipython",
    "version": 3
   },
   "file_extension": ".py",
   "mimetype": "text/x-python",
   "name": "python",
   "nbconvert_exporter": "python",
   "pygments_lexer": "ipython3",
   "version": "3.11.5"
  }
 },
 "nbformat": 4,
 "nbformat_minor": 5
}
